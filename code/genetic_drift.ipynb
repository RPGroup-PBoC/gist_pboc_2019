{
 "cells": [
  {
   "cell_type": "markdown",
   "metadata": {},
   "source": [
    "© 2018 Suzy Beeler. This work is licensed under a [Creative Commons Attribution License CC-BY 4.0](https://creativecommons.org/licenses/by/4.0/). All code contained herein is licensed under an [MIT license](https://opensource.org/licenses/MIT) \n",
    "\n",
    "This exercise was generated from a Jupyter notebook. You can download the notebook [here](genetic_drift.ipynb).\n",
    "___\n",
    "\n",
    "# Objective \n",
    "\n",
    "Here we will simulate the famous Buri experiment, where we will track the allele frequencies of small populations over time. This tutorial illustrates the role that genetic drift plays in evolution **in the absence of selection**."
   ]
  },
  {
   "cell_type": "code",
   "execution_count": 1,
   "metadata": {},
   "outputs": [],
   "source": [
    "# Import the necessary modules\n",
    "import numpy as np\n",
    "import matplotlib.pyplot as plt\n",
    "\n",
    "# For pretty plots\n",
    "import seaborn as sns\n",
    "rc={'lines.linewidth': 2, 'axes.labelsize': 14, 'axes.titlesize': 14, \\\n",
    "    'xtick.labelsize' : 14, 'ytick.labelsize' : 14}\n",
    "sns.set(rc=rc)"
   ]
  },
  {
   "cell_type": "markdown",
   "metadata": {},
   "source": [
    "# Buri experiment, bag of alleles treatment"
   ]
  },
  {
   "cell_type": "code",
   "execution_count": 2,
   "metadata": {},
   "outputs": [],
   "source": [
    "# number of vials \n",
    "n_vials = 100000\n",
    "\n",
    "# number of flies in each vial\n",
    "n_flies = 16"
   ]
  },
  {
   "cell_type": "code",
   "execution_count": 3,
   "metadata": {},
   "outputs": [],
   "source": [
    "# array to store time to fixation\n",
    "time_to_fix1 = np.zeros(n_vials)\n",
    "\n",
    "# loop through number of vials\n",
    "for v in range(n_vials):\n",
    "    \n",
    "    # start generation counter\n",
    "    gen_count = 0\n",
    "    \n",
    "    # initial red frequency\n",
    "    old_red_freq = 0.5\n",
    "    \n",
    "    # loop until fixation\n",
    "    while True:\n",
    "        \n",
    "        # simulate mating for the next generation\n",
    "        # 0 is white allele, 1 is red allele \n",
    "        new_alleles = np.random.choice([0,1], size=n_flies*2, \n",
    "                                       p=[1-old_red_freq, old_red_freq])\n",
    "        \n",
    "        # calculate new red allele frequence\n",
    "        new_red_freq = sum(new_alleles) / len(new_alleles)\n",
    "        \n",
    "        # see if fixation has occurred\n",
    "        if (new_red_freq == 0) or (new_red_freq == 1):\n",
    "            time_to_fix1[v] = gen_count\n",
    "            break # exit loop\n",
    "            \n",
    "        # update generation count\n",
    "        gen_count += 1\n",
    "        \n",
    "        # update red frequency\n",
    "        old_red_freq = new_red_freq"
   ]
  },
  {
   "cell_type": "code",
   "execution_count": 4,
   "metadata": {},
   "outputs": [
    {
     "data": {
      "text/plain": [
       "Text(0,0.5,'frequency')"
      ]
     },
     "execution_count": 4,
     "metadata": {},
     "output_type": "execute_result"
    },
    {
     "data": {
      "image/png": "[encoded data removed]",
      "text/plain": [
       "<Figure size 432x288 with 1 Axes>"
      ]
     },
     "metadata": {},
     "output_type": "display_data"
    }
   ],
   "source": [
    "plt.hist(time_to_fix1, bins=50);\n",
    "plt.xlabel(\"time to fixation (generations)\")\n",
    "plt.ylabel(\"frequency\")"
   ]
  },
  {
   "cell_type": "markdown",
   "metadata": {},
   "source": [
    "# Buri experiment, 16 flies treatment\n",
    "\n",
    "This version prevents two alleles from being drawn from the same fly for the next generation."
   ]
  },
  {
   "cell_type": "code",
   "execution_count": 5,
   "metadata": {},
   "outputs": [],
   "source": [
    "def next_gen(vial):\n",
    "    \"\"\"\n",
    "    Given a vial (an array of sixteen flies that are 0, 0.5, or 1),\n",
    "    produces a new vial of 16 flies. \n",
    "    \"\"\"\n",
    " \n",
    "    # new vial to populate\n",
    "    new_vial = np.zeros(len(vial))\n",
    "\n",
    "    # loop through the 16 new flies to be made\n",
    "    for i in range(len(vial)):\n",
    "        \n",
    "        # pick two flies to mate from vial. NO replacement allowed\n",
    "        flies_to_mate = np.random.choice(np.arange(len(vial)), size=2, replace=False)\n",
    "        \n",
    "        # new genotype to be specified\n",
    "        new_genotype = 0\n",
    "\n",
    "        # from each fly, grab one allele and add to new genotype\n",
    "        for fly in flies_to_mate:\n",
    "            allele = np.random.choice([0,1],p=[1-vial[fly], vial[fly]])\n",
    "            new_genotype += allele\n",
    "\n",
    "        # add new genotype to new vial\n",
    "        new_vial[i] = new_genotype/2\n",
    "    \n",
    "    return new_vial"
   ]
  },
  {
   "cell_type": "code",
   "execution_count": 6,
   "metadata": {},
   "outputs": [
    {
     "name": "stdout",
     "output_type": "stream",
     "text": [
      "0\n",
      "1000\n",
      "2000\n",
      "3000\n",
      "4000\n",
      "5000\n",
      "6000\n",
      "7000\n",
      "8000\n",
      "9000\n",
      "10000\n",
      "11000\n",
      "12000\n",
      "13000\n",
      "14000\n",
      "15000\n",
      "16000\n",
      "17000\n",
      "18000\n",
      "19000\n",
      "20000\n",
      "21000\n",
      "22000\n",
      "23000\n",
      "24000\n",
      "25000\n",
      "26000\n",
      "27000\n",
      "28000\n",
      "29000\n",
      "30000\n",
      "31000\n",
      "32000\n",
      "33000\n",
      "34000\n",
      "35000\n",
      "36000\n",
      "37000\n",
      "38000\n",
      "39000\n",
      "40000\n",
      "41000\n",
      "42000\n",
      "43000\n",
      "44000\n",
      "45000\n",
      "46000\n",
      "47000\n",
      "48000\n",
      "49000\n",
      "50000\n",
      "51000\n",
      "52000\n",
      "53000\n",
      "54000\n",
      "55000\n",
      "56000\n",
      "57000\n",
      "58000\n",
      "59000\n",
      "60000\n",
      "61000\n",
      "62000\n",
      "63000\n",
      "64000\n",
      "65000\n",
      "66000\n",
      "67000\n",
      "68000\n",
      "69000\n",
      "70000\n",
      "71000\n",
      "72000\n",
      "73000\n",
      "74000\n",
      "75000\n",
      "76000\n",
      "77000\n",
      "78000\n",
      "79000\n",
      "80000\n",
      "81000\n",
      "82000\n",
      "83000\n",
      "84000\n",
      "85000\n",
      "86000\n",
      "87000\n",
      "88000\n",
      "89000\n",
      "90000\n",
      "91000\n",
      "92000\n",
      "93000\n",
      "94000\n",
      "95000\n",
      "96000\n",
      "97000\n",
      "98000\n",
      "99000\n"
     ]
    }
   ],
   "source": [
    "# array to store time to fixation\n",
    "time_to_fix2 = np.zeros(n_vials)\n",
    "\n",
    "# loop through number of vials\n",
    "for v in range(n_vials):\n",
    "    \n",
    "    # output for progress through loop\n",
    "    if v % 1000 == 0:\n",
    "        print(v)\n",
    "    \n",
    "    # what a vial looks like to start \n",
    "    vial = np.array([0.5]*n_flies)\n",
    "    \n",
    "    # start generation count\n",
    "    gen_count = 0\n",
    "    \n",
    "    # loop  through number of generations\n",
    "    while True:\n",
    "        \n",
    "        # simulate mating\n",
    "        new_vial = next_gen(vial)\n",
    "        \n",
    "        # compute new red allele frequency\n",
    "        new_red_freq = np.sum(new_vial.flatten()) / n_flies\n",
    "        \n",
    "        # see if fixation has occurred\n",
    "        if (new_red_freq == 0) or (new_red_freq == 1):\n",
    "            time_to_fix2[v] = gen_count\n",
    "            break # exit loop\n",
    "            \n",
    "        # update generation count\n",
    "        gen_count += 1\n",
    "            \n",
    "        # update vial\n",
    "        vial = new_vial"
   ]
  },
  {
   "cell_type": "code",
   "execution_count": 7,
   "metadata": {},
   "outputs": [
    {
     "data": {
      "text/plain": [
       "Text(0,0.5,'frequency')"
      ]
     },
     "execution_count": 7,
     "metadata": {},
     "output_type": "execute_result"
    },
    {
     "data": {
      "image/png": "[encoded data removed]",
      "text/plain": [
       "<Figure size 432x288 with 1 Axes>"
      ]
     },
     "metadata": {},
     "output_type": "display_data"
    }
   ],
   "source": [
    "plt.hist(time_to_fix2, bins=50);\n",
    "plt.xlabel(\"time to fixation (generations)\")\n",
    "plt.ylabel(\"frequency\")"
   ]
  },
  {
   "cell_type": "markdown",
   "metadata": {},
   "source": [
    "# Compare the two approaches"
   ]
  },
  {
   "cell_type": "code",
   "execution_count": 8,
   "metadata": {},
   "outputs": [
    {
     "data": {
      "text/plain": [
       "<matplotlib.legend.Legend at 0x1a1dd3e358>"
      ]
     },
     "execution_count": 8,
     "metadata": {},
     "output_type": "execute_result"
    },
    {
     "data": {
      "image/png": "[encoded data removed]",
      "text/plain": [
       "<Figure size 432x288 with 1 Axes>"
      ]
     },
     "metadata": {},
     "output_type": "display_data"
    }
   ],
   "source": [
    "# sort the final times to fixation\n",
    "sorted1 = np.sort(time_to_fix1)\n",
    "sorted2 = np.sort(time_to_fix2)\n",
    "\n",
    "# make the corresponding y_values for ECDF\n",
    "y_values = np.linspace(start=1, stop=0, num=n_vials)\n",
    "\n",
    "# plot\n",
    "plt.plot(sorted1, y_values)\n",
    "plt.plot(sorted2, y_values)\n",
    "plt.xscale(\"log\")\n",
    "plt.xlabel(\"time to fixation (generations)\")\n",
    "plt.ylabel(\"fraction un-fixed\")\n",
    "plt.legend([\"bag of alleles\",\"proper treatment\"])"
   ]
  },
  {
   "cell_type": "markdown",
   "metadata": {},
   "source": [
    "They don't look too different, but let's zoom in:"
   ]
  },
  {
   "cell_type": "code",
   "execution_count": 16,
   "metadata": {},
   "outputs": [
    {
     "data": {
      "text/plain": [
       "<matplotlib.legend.Legend at 0x1a228bdef0>"
      ]
     },
     "execution_count": 16,
     "metadata": {},
     "output_type": "execute_result"
    },
    {
     "data": {
      "image/png": "[encoded data removed]",
      "text/plain": [
       "<Figure size 432x288 with 1 Axes>"
      ]
     },
     "metadata": {},
     "output_type": "display_data"
    }
   ],
   "source": [
    "plt.plot(sorted1, y_values)\n",
    "plt.plot(sorted2, y_values)\n",
    "plt.xscale(\"log\")\n",
    "plt.xlim([10,100])\n",
    "plt.xlabel(\"time to fixation (generations)\")\n",
    "plt.ylabel(\"fraction un-fixed\")\n",
    "plt.legend([\"bag of alleles\",\"proper treatment\"])"
   ]
  },
  {
   "cell_type": "markdown",
   "metadata": {},
   "source": [
    "If anything, the \"bag of alleles\" treatment fixes earlier on average, but the effect is slight:"
   ]
  },
  {
   "cell_type": "code",
   "execution_count": 12,
   "metadata": {},
   "outputs": [
    {
     "name": "stdout",
     "output_type": "stream",
     "text": [
      "Bag of alleles mean time to fixation: 41.74617 generations\n",
      "Proper treatment mean time to fixation: 43.11588 generations\n",
      "\n",
      "Bag of alleles median time to fixation: 33.0 generations\n",
      "Proper treatment median time to fixation: 34.0 generations\n"
     ]
    }
   ],
   "source": [
    "print(\"Bag of alleles mean time to fixation:\", np.mean(sorted1), \"generations\")\n",
    "print(\"Proper treatment mean time to fixation:\", np.mean(sorted2), \"generations\")\n",
    "print()\n",
    "print(\"Bag of alleles median time to fixation:\", np.median(sorted1), \"generations\")\n",
    "print(\"Proper treatment median time to fixation:\", np.median(sorted2), \"generations\")"
   ]
  },
  {
   "cell_type": "code",
   "execution_count": null,
   "metadata": {},
   "outputs": [],
   "source": []
  }
 ],
 "metadata": {
  "kernelspec": {
   "display_name": "Python 3",
   "language": "python",
   "name": "python3"
  },
  "language_info": {
   "codemirror_mode": {
    "name": "ipython",
    "version": 3
   },
   "file_extension": ".py",
   "mimetype": "text/x-python",
   "name": "python",
   "nbconvert_exporter": "python",
   "pygments_lexer": "ipython3",
   "version": "3.6.6"
  }
 },
 "nbformat": 4,
 "nbformat_minor": 2
}
